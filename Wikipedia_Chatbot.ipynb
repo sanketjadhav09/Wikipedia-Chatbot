{
 "cells": [
  {
   "cell_type": "code",
   "execution_count": null,
   "id": "bd19af95-6314-4c9d-a664-2104edc59117",
   "metadata": {},
   "outputs": [],
   "source": [
    "!pip install wikipedia"
   ]
  },
  {
   "cell_type": "code",
   "execution_count": 7,
   "id": "a3ed84d0-8084-4f03-9028-905c55f8af53",
   "metadata": {},
   "outputs": [
    {
     "name": "stdin",
     "output_type": "stream",
     "text": [
      "User:  Python Programming\n"
     ]
    },
    {
     "name": "stdout",
     "output_type": "stream",
     "text": [
      "ChatBot: Python is a high-level, general-purpose programming language. Its design philosophy emphasizes code readability with the use of significant indentation.\n",
      "Python is dynamically type-checked and garbage-collected. It supports multiple programming paradigms, including structured (particularly procedural), object-oriented and functional programming. It is often described as a \"batteries included\" language due to its comprehensive standard library.\n",
      "Guido van Rossum began working on Python in the late 1980s as a successor to the ABC programming language and first released it in 1991 as Python 0.9.0. Python 2.0 was released in 2000. Python 3.0, released in 2008, was a major revision not completely backward-compatible with earlier versions. Python 2.7.18, released in 2020, was the last release of Python 2.\n",
      "Python consistently ranks as one of the most popular programming languages, and has gained widespread use in the machine learning community.\n",
      "\n",
      "\n"
     ]
    },
    {
     "name": "stdin",
     "output_type": "stream",
     "text": [
      "User:  goodbye\n"
     ]
    },
    {
     "name": "stdout",
     "output_type": "stream",
     "text": [
      "ChatBot: Goodbye! It was nice talking to you.\n"
     ]
    }
   ],
   "source": [
    "import wikipedia\n",
    "\n",
    "# Define a function to search and retrieve information from Wikipedia\n",
    "def search_wikipedia(query):\n",
    "    try:\n",
    "        # Search for the query on Wikipedia\n",
    "        search_results = wikipedia.search(query)\n",
    "\n",
    "        if len(search_results) == 0:\n",
    "            return \"I'm sorry, please enter question to search.\"\n",
    "\n",
    "        # Get the summary of the first search result\n",
    "        page_summary = wikipedia.summary(search_results[0])\n",
    "\n",
    "        return page_summary\n",
    "\n",
    "    except wikipedia.exceptions.DisambiguationError as e:\n",
    "        # Handle disambiguation errors\n",
    "        return \"There are multiple options. Can you please be more specific?\"\n",
    "\n",
    "    except wikipedia.exceptions.PageError as e:\n",
    "        # Handle page not found errors\n",
    "        return \"I'm sorry, I couldn't find any information on that topic.\"\n",
    "\n",
    "# Test the chatbot\n",
    "while True:\n",
    "    user_input = input(\"User: \")\n",
    "\n",
    "    if user_input.lower() == \"goodbye\":\n",
    "        print(\"ChatBot: Goodbye! It was nice talking to you.\")\n",
    "        break\n",
    "\n",
    "    response = search_wikipedia(user_input)\n",
    "    print(\"ChatBot:\", response)"
   ]
  }
 ],
 "metadata": {
  "kernelspec": {
   "display_name": "Python 3 (ipykernel)",
   "language": "python",
   "name": "python3"
  },
  "language_info": {
   "codemirror_mode": {
    "name": "ipython",
    "version": 3
   },
   "file_extension": ".py",
   "mimetype": "text/x-python",
   "name": "python",
   "nbconvert_exporter": "python",
   "pygments_lexer": "ipython3",
   "version": "3.11.7"
  }
 },
 "nbformat": 4,
 "nbformat_minor": 5
}
